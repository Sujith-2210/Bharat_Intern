{
  "nbformat": 4,
  "nbformat_minor": 0,
  "metadata": {
    "colab": {
      "provenance": []
    },
    "kernelspec": {
      "name": "python3",
      "display_name": "Python 3"
    },
    "language_info": {
      "name": "python"
    }
  },
  "cells": [
    {
      "cell_type": "code",
      "execution_count": null,
      "metadata": {
        "id": "G0dFpUVPmksA"
      },
      "outputs": [],
      "source": [
        "!pip install pandas\n",
        "!pip install scikit-learn"
      ]
    },
    {
      "cell_type": "code",
      "source": [
        "import pandas as pd\n",
        "from sklearn.metrics.pairwise import cosine_similarity\n",
        "\n",
        "ratings = pd.read_csv('/content/ratings.csv')\n",
        "movies = pd.read_csv('/content/movies.csv')\n",
        "\n",
        "movie_user_matrix = ratings.pivot(index='movieId', columns='userId', values='rating').fillna(0)\n",
        "\n",
        "movie_similarity = cosine_similarity(movie_user_matrix)\n",
        "\n",
        "movie_similarity_df = pd.DataFrame(movie_similarity, index=movie_user_matrix.index, columns=movie_user_matrix.index)\n",
        "\n",
        "def get_movie_id(movie_name):\n",
        "    movie_id = movies[movies['title'].str.contains(movie_name, case=False, na=False)]['movieId'].values\n",
        "    if len(movie_id) == 0:\n",
        "        return None\n",
        "    return movie_id[0]\n",
        "\n",
        "def get_recommendations(movie_name, num_recommendations=10):\n",
        "\n",
        "    movie_id = get_movie_id(movie_name)\n",
        "    if movie_id is None:\n",
        "        return f\"No movie found with name {movie_name}\"\n",
        "\n",
        "    similarity_scores = movie_similarity_df[movie_id]\n",
        "\n",
        "    similar_movies = similarity_scores.sort_values(ascending=False).index[1:num_recommendations + 1]\n",
        "\n",
        "    recommended_movie_titles = movies[movies['movieId'].isin(similar_movies)]['title']\n",
        "\n",
        "    return recommended_movie_titles\n",
        "\n",
        "\n",
        "movie_name = input(\"Enter a movie name: \")\n",
        "recommendations = get_recommendations(movie_name)\n",
        "print(f\"Top recommendations based on '{movie_name}':\\n\", recommendations)\n"
      ],
      "metadata": {
        "colab": {
          "base_uri": "https://localhost:8080/"
        },
        "id": "qY3zO22onaaB",
        "outputId": "9a5772ad-ac08-4cc0-f626-c734e928ad09"
      },
      "execution_count": null,
      "outputs": [
        {
          "output_type": "stream",
          "name": "stdout",
          "text": [
            "Enter a movie name: Toy Story\n",
            "Top recommendations based on 'Toy Story':\n",
            " 224             Star Wars: Episode IV - A New Hope (1977)\n",
            "314                                   Forrest Gump (1994)\n",
            "322                                 Lion King, The (1994)\n",
            "418                                  Jurassic Park (1993)\n",
            "546                            Mission: Impossible (1996)\n",
            "615                  Independence Day (a.k.a. ID4) (1996)\n",
            "911     Star Wars: Episode VI - Return of the Jedi (1983)\n",
            "964                                  Groundhog Day (1993)\n",
            "969                             Back to the Future (1985)\n",
            "2355                                   Toy Story 2 (1999)\n",
            "Name: title, dtype: object\n"
          ]
        }
      ]
    }
  ]
}